{
 "cells": [
  {
   "cell_type": "code",
   "execution_count": 1,
   "id": "7184574b",
   "metadata": {},
   "outputs": [
    {
     "name": "stdout",
     "output_type": "stream",
     "text": [
      "The unique values are :  {32, 35, 38, 70, 40, 12, 14, 22, 55, 58, 60}\n"
     ]
    }
   ],
   "source": [
    "Q1. Write a Python program to Extract Unique values dictionary values?\n",
    "\n",
    "Ans:\n",
    "\n",
    "dict = {'a' : [22, 35, 55, 14],\n",
    "             'b' : [14, 60, 38, 40],\n",
    "             'c' : [60, 12, 40 ,58],\n",
    "             'd' : [58, 70, 22, 32]}\n",
    "\n",
    "output = ({i for val in dict.values() for i in val})\n",
    "\n",
    "print(\"The unique values are : \" , output)"
   ]
  },
  {
   "cell_type": "code",
   "execution_count": 14,
   "id": "33170ae7",
   "metadata": {},
   "outputs": [
    {
     "name": "stdout",
     "output_type": "stream",
     "text": [
      "Su, of all items:  450\n"
     ]
    }
   ],
   "source": [
    "Q2. Write a Python program to find the sum of all items in a dictionary?\n",
    "\n",
    "Ans:\n",
    "\n",
    "dict = {'a': 200, 'b': 50, 'c': 200}\n",
    "\n",
    "sum = 0\n",
    "for i in dict.values():\n",
    "    sum =sum + i\n",
    "print(\"Su, of all items: \", sum)"
   ]
  },
  {
   "cell_type": "code",
   "execution_count": 2,
   "id": "91e105f9",
   "metadata": {},
   "outputs": [
    {
     "name": "stdout",
     "output_type": "stream",
     "text": [
      "{'a': 5, 'b': 1, 'c': 10, 'd': 2}\n"
     ]
    }
   ],
   "source": [
    "Q3. Write a Python program to Merging two Dictionaries?\n",
    "\n",
    "Ans:\n",
    "\n",
    "dict_a= {'a': 20, 'b': 50, 'c': 10}\n",
    "dict_b= {'d': 2, 'a':5,'b':1 }\n",
    "\n",
    "dict_a.update(dict_b)\n",
    "\n",
    "print(dict_a)"
   ]
  },
  {
   "cell_type": "code",
   "execution_count": 8,
   "id": "03fd95e3",
   "metadata": {},
   "outputs": [
    {
     "name": "stdout",
     "output_type": "stream",
     "text": [
      "The Flattered Dictionary {'Python': 10, 'DataScience': 20, 'ML': 30, 'DL': 40, 'AI': 100}\n"
     ]
    }
   ],
   "source": [
    "Q4. Write a Python program to convert key-values list to flat dictionary?\n",
    "\n",
    "Ans:\n",
    "\n",
    "list = [('Python',10), ('DataScience', 20), ('ML', 30),('DL', 40), ('AI', 100)]\n",
    "\n",
    "flat_dict = {}\n",
    "for i in list:\n",
    "    flat_dict[i[0]] = i[1]\n",
    "print(\"The Flattered Dictionary\", flat_dict)\n"
   ]
  },
  {
   "cell_type": "code",
   "execution_count": 4,
   "id": "b8d9c9ea",
   "metadata": {},
   "outputs": [
    {
     "name": "stdout",
     "output_type": "stream",
     "text": [
      "Final Dictionary: OrderedDict([('Python', '500'), ('a', '50'), ('b', '20'), ('c', '70')])\n"
     ]
    }
   ],
   "source": [
    "Q5. Write a Python program to insertion at the beginning in OrderedDict?\n",
    "\n",
    "Ans:\n",
    "\n",
    "from collections import OrderedDict  \n",
    "\n",
    "dictionary = OrderedDict([('a', '50'), ('b', '20'), ('c', '70')])\n",
    "\n",
    "dictionary.update({\"Python\": '500'})\n",
    "\n",
    "dictionary.move_to_end(\"Python\", last=False)\n",
    "\n",
    "print(\"Final Dictionary:\",dictionary)"
   ]
  },
  {
   "cell_type": "code",
   "execution_count": 5,
   "id": "2760263b",
   "metadata": {},
   "outputs": [
    {
     "name": "stdout",
     "output_type": "stream",
     "text": [
      "Enter the string : DataScience\n",
      "Enter Pattern : ta\n",
      "Pattern is matched\n"
     ]
    }
   ],
   "source": [
    "Q6. Write a Python program to check order of character in string using OrderedDict()?\n",
    "\n",
    "Ans:\n",
    "\n",
    "from collections import OrderedDict \n",
    "def checkOrderString(str, pattern):\n",
    "    \n",
    "    dict = OrderedDict.fromkeys(str) \n",
    "    pattrlen = 0\n",
    "    for key,value in dict.items():         \n",
    "        if (key == pattern[pattrlen]): \n",
    "            pattrlen = pattrlen + 1\n",
    "            \n",
    "        if (pattrlen == (len(pattern))):            \n",
    "            return 'true'\n",
    "      \n",
    "    return 'false'\n",
    "  \n",
    "\n",
    "string = input(\"Enter the string : \")\n",
    "pattern = input(\"Enter Pattern : \")\n",
    "\n",
    "if checkOrderString(string,pattern):\n",
    "    print(\"Pattern is matched\")\n",
    "else:\n",
    "    print(\"Pattern is not matched\")"
   ]
  },
  {
   "cell_type": "code",
   "execution_count": 7,
   "id": "5ff68bf8",
   "metadata": {},
   "outputs": [
    {
     "name": "stdout",
     "output_type": "stream",
     "text": [
      "The sorted dictionary key: ['a', 'b', 'c', 'd']\n",
      "The sorted dictionary value: [10, 20, 30, 50]\n"
     ]
    }
   ],
   "source": [
    "Q7. Write a Python program to sort Python Dictionaries by Key or Value?\n",
    "\n",
    "Ans:\n",
    "\n",
    "dict_a= {'a': 20, 'c': 30, 'd': 50, 'b': 10}\n",
    "\n",
    "sorted_dict_value = sorted(dict_a.values())\n",
    "sorted_dict_key = sorted(dict_a.keys())\n",
    "\n",
    "print(\"The sorted dictionary key:\", sorted_dict_key)\n",
    "print(\"The sorted dictionary value:\", sorted_dict_value)  \n",
    "    "
   ]
  },
  {
   "cell_type": "code",
   "execution_count": null,
   "id": "2f6b24d6",
   "metadata": {},
   "outputs": [],
   "source": []
  }
 ],
 "metadata": {
  "kernelspec": {
   "display_name": "Python 3 (ipykernel)",
   "language": "python",
   "name": "python3"
  },
  "language_info": {
   "codemirror_mode": {
    "name": "ipython",
    "version": 3
   },
   "file_extension": ".py",
   "mimetype": "text/x-python",
   "name": "python",
   "nbconvert_exporter": "python",
   "pygments_lexer": "ipython3",
   "version": "3.9.12"
  }
 },
 "nbformat": 4,
 "nbformat_minor": 5
}
