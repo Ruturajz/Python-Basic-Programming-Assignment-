{
 "cells": [
  {
   "cell_type": "code",
   "execution_count": 4,
   "id": "e0714db3",
   "metadata": {},
   "outputs": [
    {
     "name": "stdout",
     "output_type": "stream",
     "text": [
      "Enter the number598\n",
      "598 is a disarium numbere\n"
     ]
    }
   ],
   "source": [
    "Q1. Write a Python program to check if the given number is a Disarium Number?\n",
    "\n",
    "Ans:\n",
    "\n",
    "a = int(input(\"Enter the number\"))\n",
    "temp = a\n",
    "b = a\n",
    "\n",
    "count = 0\n",
    "while temp>0:\n",
    "    temp = temp//10\n",
    "    count = count+1\n",
    "sum =0\n",
    "    \n",
    "while b >0:\n",
    "    rem = b %10\n",
    "    sum = sum + rem**count\n",
    "    b = b //10\n",
    "    count =count - 1\n",
    "    \n",
    "if sum==a:\n",
    "    print(a,\"is a disarium numbere\")\n",
    "    \n",
    "else:\n",
    "    print(a,\"Not a disarium no\")\n",
    "    "
   ]
  },
  {
   "cell_type": "code",
   "execution_count": 13,
   "id": "8f92f245",
   "metadata": {},
   "outputs": [
    {
     "name": "stdout",
     "output_type": "stream",
     "text": [
      "1\n",
      "2\n",
      "3\n",
      "4\n",
      "5\n",
      "6\n",
      "7\n",
      "8\n",
      "9\n",
      "89\n"
     ]
    }
   ],
   "source": [
    "Q2. Write a Python program to print all disarium numbers between 1 to 100?\n",
    "\n",
    "Ans:\n",
    "\n",
    "def calculatelength(n):    \n",
    "    length = 0    \n",
    "    while(n != 0):    \n",
    "        length = length + 1    \n",
    "        n = n//10    \n",
    "    return length    \n",
    "     \n",
    "def sumOfDigits(b):\n",
    "    rem = sum = 0\n",
    "    count = calculatelength(b)\n",
    "    \n",
    "    while b >0:\n",
    "        rem = b %10\n",
    "        sum = sum + rem**count\n",
    "        b = b //10\n",
    "        count =count - 1\n",
    "    return sum\n",
    "\n",
    "result = 0     \n",
    "  \n",
    "\n",
    "for i in range(1, 101):    \n",
    "    result = sumOfDigits(i)\n",
    "    if(result == i):\n",
    "         print(i)    \n",
    "\n"
   ]
  },
  {
   "cell_type": "code",
   "execution_count": 17,
   "id": "d7561a07",
   "metadata": {},
   "outputs": [
    {
     "name": "stdout",
     "output_type": "stream",
     "text": [
      "Enter the number188\n",
      "188 is a Happy Number\n"
     ]
    }
   ],
   "source": [
    "# Q3. Write a Python program to check if the given number is Happy Number?\n",
    "\n",
    "# Ans:\n",
    "    \n",
    "a =int(input(\"Enter the number\"))\n",
    "b =a\n",
    "\n",
    "\n",
    "while b>10:\n",
    "    sum = 0\n",
    "    while b>0:\n",
    "        r = b%10\n",
    "        sum = sum +(r**2)\n",
    "        b = b//10\n",
    "    b = sum\n",
    "    \n",
    "if b == 1:\n",
    "    print(a, \"is a Happy Number\")\n",
    "    \n",
    "else:\n",
    "    print(a, \"is not a happy number\")"
   ]
  },
  {
   "cell_type": "code",
   "execution_count": 8,
   "id": "485c3ad7",
   "metadata": {},
   "outputs": [
    {
     "name": "stdout",
     "output_type": "stream",
     "text": [
      "1\n",
      "7\n",
      "10\n",
      "13\n",
      "19\n",
      "23\n",
      "28\n",
      "31\n",
      "32\n",
      "44\n",
      "49\n",
      "68\n",
      "70\n",
      "79\n",
      "82\n",
      "86\n",
      "91\n",
      "94\n",
      "97\n",
      "100\n"
     ]
    }
   ],
   "source": [
    "Q4. Write a Python program to print all happy numbers between 1 and 100?\n",
    "\n",
    "Ans:\n",
    "\n",
    "def ishappynumber(n):\n",
    "    rem=sum=0\n",
    "    \n",
    "    while n>0:\n",
    "        rem = n%10\n",
    "        sum = sum+(rem**2)\n",
    "        n = n//10\n",
    "    return sum   \n",
    "\n",
    "for i in range(1, 101):    \n",
    "    result = i\n",
    "    \n",
    "    while(result !=1 and result !=4):\n",
    "        result= ishappynumber(result)   \n",
    "        \n",
    "    if(result == 1):    \n",
    "        print(i)"
   ]
  },
  {
   "cell_type": "code",
   "execution_count": 16,
   "id": "6deb8378",
   "metadata": {},
   "outputs": [
    {
     "name": "stdout",
     "output_type": "stream",
     "text": [
      "Enter the number84\n",
      "84  is a harshad number\n"
     ]
    }
   ],
   "source": [
    "Q5. Write a Python program to determine whether the given number is a Harshad Number?\n",
    "\n",
    "Ans:\n",
    "\n",
    "a = int(input(\"Enter the number\"))\n",
    "b = a      \n",
    "rem = sum = 0  \n",
    " \n",
    "    \n",
    "while a > 0:    \n",
    "    rem = a%10    \n",
    "    sum = sum + rem   \n",
    "    a = a//10\n",
    "    \n",
    "if(a%sum == 0):    \n",
    "    print(b,\" is a harshad number\")    \n",
    "else:    \n",
    "    print(b,\" is not a harshad number\")"
   ]
  },
  {
   "cell_type": "code",
   "execution_count": 19,
   "id": "b1f2cb2d",
   "metadata": {},
   "outputs": [
    {
     "name": "stdout",
     "output_type": "stream",
     "text": [
      "2\n",
      "6\n",
      "12\n",
      "20\n",
      "30\n",
      "42\n",
      "56\n",
      "72\n",
      "90\n"
     ]
    }
   ],
   "source": [
    "# Q6. Write a Python program to print all pronic numbers between 1 and 100?\n",
    "\n",
    "# Ans:\n",
    "    \n",
    "def ispronicnumber(a):\n",
    "    flag = 0\n",
    "    \n",
    "    for i in range(1,a+1):\n",
    "        if (i*(i+1)) == a:\n",
    "            flag = 1\n",
    "            break\n",
    "    return flag\n",
    "\n",
    "for i in range(1, 101):\n",
    "    if(ispronicnumber(i)):    \n",
    "        print(i)    \n",
    "        "
   ]
  },
  {
   "cell_type": "code",
   "execution_count": null,
   "id": "cd1f5fba",
   "metadata": {},
   "outputs": [],
   "source": []
  }
 ],
 "metadata": {
  "kernelspec": {
   "display_name": "Python 3 (ipykernel)",
   "language": "python",
   "name": "python3"
  },
  "language_info": {
   "codemirror_mode": {
    "name": "ipython",
    "version": 3
   },
   "file_extension": ".py",
   "mimetype": "text/x-python",
   "name": "python",
   "nbconvert_exporter": "python",
   "pygments_lexer": "ipython3",
   "version": "3.9.12"
  }
 },
 "nbformat": 4,
 "nbformat_minor": 5
}
