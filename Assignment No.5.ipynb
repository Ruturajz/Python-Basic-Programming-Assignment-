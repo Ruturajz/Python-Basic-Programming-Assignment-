{
 "cells": [
  {
   "cell_type": "code",
   "execution_count": 2,
   "id": "edb5cd12",
   "metadata": {},
   "outputs": [
    {
     "name": "stdout",
     "output_type": "stream",
     "text": [
      "enter the first number50\n",
      "enter the second number100\n",
      "lCM of 50 and 100 is 100\n"
     ]
    }
   ],
   "source": [
    "# Q1. Write a Python Program to Find LCM?\n",
    "\n",
    "# Ans:\n",
    "\n",
    "def compute_lcm(x, y):\n",
    "    if x > y:\n",
    "        higher = x\n",
    "    else:\n",
    "        higher = y\n",
    "        value = higher\n",
    "    while True:\n",
    "        if((higher%x == 0) and (higher%y == 0)):\n",
    "            print(\"lCM of\", x, \"and\" ,y, \"is\", higher)\n",
    "            break\n",
    "            \n",
    "        else:\n",
    "            higher = higher + value\n",
    "    \n",
    "x = int(input(\"enter the first number\"))\n",
    "y = int(input(\"enter the second number\"))\n",
    "\n",
    "compute_lcm(x, y)\n",
    "    "
   ]
  },
  {
   "cell_type": "code",
   "execution_count": 5,
   "id": "5d920618",
   "metadata": {},
   "outputs": [
    {
     "name": "stdout",
     "output_type": "stream",
     "text": [
      "enter the first number50\n",
      "enter the second number100\n",
      "The H.C.F. is 50\n"
     ]
    },
    {
     "data": {
      "text/plain": [
       "50"
      ]
     },
     "execution_count": 5,
     "metadata": {},
     "output_type": "execute_result"
    }
   ],
   "source": [
    "# Q2. Write a Python Program to Find HCF?\n",
    "\n",
    "# Ans:\n",
    "def compute_hcf(x, y):\n",
    "    if x > y:\n",
    "        smaller = y\n",
    "    else:\n",
    "        smaller = x\n",
    "\n",
    "        \n",
    "    for i in range (1, smaller+1):\n",
    "        if((x% i == 0) and (y% i == 0)):\n",
    "            hcf= i\n",
    "            \n",
    "    return hcf\n",
    "            \n",
    "    \n",
    "    \n",
    "x = int(input(\"enter the first number\"))\n",
    "y = int(input(\"enter the second number\"))\n",
    "\n",
    "print(\"The H.C.F. is\", compute_hcf(x, y))\n",
    "\n",
    "compute_hcf(x, y)"
   ]
  },
  {
   "cell_type": "code",
   "execution_count": 7,
   "id": "fbe18b85",
   "metadata": {},
   "outputs": [
    {
     "name": "stdout",
     "output_type": "stream",
     "text": [
      "Enter the number500\n",
      "The decimal value of 500\n",
      "in binary value is 0b111110100\n",
      "in octal value is 0o764\n",
      "in hexadecimal value is 0x1f4\n"
     ]
    }
   ],
   "source": [
    "# Q3. Write a Python Program to Convert Decimal to Binary, Octal and Hexadecimal?\n",
    "\n",
    "# Ans:\n",
    "\n",
    "a= int(input(\"Enter the number\"))\n",
    "\n",
    "print(\"The decimal value of\", a,)\n",
    "print(\"in binary value is\", bin(a))\n",
    "print(\"in octal value is\", oct(a))\n",
    "print(\"in hexadecimal value is\", hex(a))\n",
    "    "
   ]
  },
  {
   "cell_type": "code",
   "execution_count": 1,
   "id": "316e82ba",
   "metadata": {},
   "outputs": [
    {
     "name": "stdout",
     "output_type": "stream",
     "text": [
      "Enter the character&\n",
      "The ASCII value of '&' is 38\n"
     ]
    }
   ],
   "source": [
    "# Q4. Write a Python Program To Find ASCII value of a character?\n",
    "\n",
    "# Ans:\n",
    "\n",
    "a = input(\"Enter the character\")\n",
    "\n",
    "print(\"The ASCII value of '\" + a + \"' is\", ord(a))\n",
    "    "
   ]
  },
  {
   "cell_type": "code",
   "execution_count": 2,
   "id": "7f9e1d1f",
   "metadata": {},
   "outputs": [
    {
     "name": "stdout",
     "output_type": "stream",
     "text": [
      "Enter the number50\n",
      "Enter the number50\n",
      "press 1 for addition /n press 2 for subtraction /n press 3 for multilpcation /n press 4 for division\n",
      "Enter the choice from 1-4:4\n",
      "The division of input numbers is 1.0\n"
     ]
    }
   ],
   "source": [
    "# Q5. Write a Python Program to Make a Simple Calculator with 4 basic mathematical operations?\n",
    "\n",
    "# Ans:\n",
    "\n",
    "num1= float(input(\"Enter the number\"))\n",
    "num2= float(input(\"Enter the number\"))\n",
    "\n",
    "print(\"press 1 for addition /n press 2 for subtraction /n press 3 for multilpcation /n press 4 for division\")\n",
    "\n",
    "choice = int(input(\"Enter the choice from 1-4:\"))\n",
    "\n",
    "if choice == 1:\n",
    "    print(\"The addition of input numbers is\",num1+num2)\n",
    "    \n",
    "elif choice == 2:\n",
    "    print(\"The subtraction of input numbers is\", num1-num2)\n",
    "    \n",
    "elif choice == 3:\n",
    "    print(\"The multiplication of input numbers is\", num1*num2)\n",
    "    \n",
    "elif choice == 4:\n",
    "    print(\"The division of input numbers is\", num1/num2)\n",
    "\n",
    "    \n",
    "else:\n",
    "    print(\"Invalid input\")\n",
    "    "
   ]
  },
  {
   "cell_type": "code",
   "execution_count": null,
   "id": "cd90b2b8",
   "metadata": {},
   "outputs": [],
   "source": []
  }
 ],
 "metadata": {
  "kernelspec": {
   "display_name": "Python 3 (ipykernel)",
   "language": "python",
   "name": "python3"
  },
  "language_info": {
   "codemirror_mode": {
    "name": "ipython",
    "version": 3
   },
   "file_extension": ".py",
   "mimetype": "text/x-python",
   "name": "python",
   "nbconvert_exporter": "python",
   "pygments_lexer": "ipython3",
   "version": "3.9.12"
  }
 },
 "nbformat": 4,
 "nbformat_minor": 5
}
