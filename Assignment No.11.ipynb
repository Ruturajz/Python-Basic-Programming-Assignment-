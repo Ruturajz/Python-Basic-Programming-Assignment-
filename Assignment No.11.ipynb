{
 "cells": [
  {
   "cell_type": "code",
   "execution_count": 1,
   "id": "37d51799",
   "metadata": {},
   "outputs": [
    {
     "name": "stdout",
     "output_type": "stream",
     "text": [
      "Enter the stringIneuron Data Science master with python\n",
      "['Ineuron', 'Science', 'master', 'python']\n"
     ]
    }
   ],
   "source": [
    "Q1. Write a Python program to find words which are greater than given length k?\n",
    "\n",
    "Ans:\n",
    "    \n",
    "string= input(\"Enter the string\")\n",
    "k= 4\n",
    "output = []\n",
    "split = string.split()\n",
    "\n",
    "for i in split:\n",
    "    if len(i)> k:\n",
    "        output.append(i)\n",
    "        \n",
    "print(output)"
   ]
  },
  {
   "cell_type": "code",
   "execution_count": 2,
   "id": "8c53121d",
   "metadata": {},
   "outputs": [
    {
     "name": "stdout",
     "output_type": "stream",
     "text": [
      "Enter the stringDataScience\n",
      "Enter the number for i7\n",
      "Final output is {'DataScence'}\n"
     ]
    }
   ],
   "source": [
    "Q2. Write a Python program for removing i-th character from a string?\n",
    "\n",
    "Ans:\n",
    "\n",
    "string= input(\"Enter the string\")\n",
    "k = int(input(\"Enter the number for i\"))\n",
    "\n",
    "a = string[0: k-1]\n",
    "b = string[k:]\n",
    "\n",
    "print(\"Final output is\", {a+b})\n",
    "\n",
    "    "
   ]
  },
  {
   "cell_type": "code",
   "execution_count": 14,
   "id": "567e3560",
   "metadata": {},
   "outputs": [
    {
     "name": "stdout",
     "output_type": "stream",
     "text": [
      "Enter the string: Ineuron Python Data Science Master\n",
      "Split sting ['Ineuron', 'Python', 'Data', 'Science', 'Master']\n",
      "Joining of a string Ineuron-Python-Data-Science-Master\n"
     ]
    }
   ],
   "source": [
    "# Q3. Write a Python program to split and join a string?\n",
    "\n",
    "# Ans:\n",
    "\n",
    "string = input(\"Enter the string: \")\n",
    "\n",
    "string= string.split(' ') \n",
    "print(\"Split sting\", string)\n",
    "\n",
    "string_join = \"-\".join(string)\n",
    "print('Joining of a string', string_join)\n",
    "    "
   ]
  },
  {
   "cell_type": "code",
   "execution_count": 8,
   "id": "fbffb162",
   "metadata": {},
   "outputs": [
    {
     "name": "stdout",
     "output_type": "stream",
     "text": [
      "Enter the string : 0101010150\n",
      "Not Binary\n"
     ]
    }
   ],
   "source": [
    "Q4. Write a Python to check if a given string is binary string or not?\n",
    "\n",
    "Ans:\n",
    "\n",
    "def ifBinary(str):\n",
    "    binary = '0101' \n",
    "    for i in range(len(string)):\n",
    "        if str[i] not in binary:\n",
    "            print('Not Binary')\n",
    "            break\n",
    "    else:\n",
    "        print('Binary')\n",
    "   \n",
    "str = input(\"Enter the string : \")\n",
    "ifbinary(string)"
   ]
  },
  {
   "cell_type": "code",
   "execution_count": 16,
   "id": "c917cf93",
   "metadata": {},
   "outputs": [
    {
     "name": "stdout",
     "output_type": "stream",
     "text": [
      "Enter the string1: Ineuron FullStack DataScience Bootcamp With Python \n",
      "Enter the string2: Ineuron FullStack Webdevlopment Bootcamp With Java\n",
      "['DataScience', 'Python', 'Webdevlopment', 'Java']\n"
     ]
    }
   ],
   "source": [
    "Q5. Write a Python program to find uncommon words from two Strings?\n",
    "\n",
    "Ans:\n",
    "\n",
    "a = input(\"Enter the string1: \")\n",
    "b = input(\"Enter the string2: \")\n",
    "list1 = []\n",
    "\n",
    "split1 = a.split()\n",
    "split2 = b.split()\n",
    "\n",
    "for i in split1:\n",
    "    if i in split2:\n",
    "        pass\n",
    "    else:\n",
    "        list1.append(i)\n",
    "        \n",
    "\n",
    "for i in split2:\n",
    "    if i in split1:\n",
    "        pass\n",
    "    else:\n",
    "        list1.append(i)\n",
    "        \n",
    "print(list1)    "
   ]
  },
  {
   "cell_type": "code",
   "execution_count": 17,
   "id": "6efcd814",
   "metadata": {},
   "outputs": [
    {
     "name": "stdout",
     "output_type": "stream",
     "text": [
      "Enter the input: PYTHON PROGRAM FOR DataScience Bootcamp\n",
      "['p', 't', 'o', 'n', ' ', 'r', 'a', 'm', 'c', 'e']\n"
     ]
    }
   ],
   "source": [
    "Q6. Write a Python to find all duplicate characters in string?\n",
    "\n",
    "Ans:\n",
    "\n",
    "string = input(\"Enter the input: \")\n",
    "string = string.lower()\n",
    "duplicate = []\n",
    "\n",
    "for i in string:\n",
    "    if string.count(i)>1:\n",
    "        if i not in duplicate:\n",
    "            duplicate.append(i)\n",
    "            \n",
    "print(duplicate)"
   ]
  },
  {
   "cell_type": "code",
   "execution_count": 13,
   "id": "7b8ca1c5",
   "metadata": {},
   "outputs": [
    {
     "name": "stdout",
     "output_type": "stream",
     "text": [
      "Enter the String: Python!&@Datacience:Bootcamp*course&\n",
      "String contains a special character\n"
     ]
    }
   ],
   "source": [
    "Q7. Write a Python Program to check if a string contains any special character?\n",
    "\n",
    "Ans:\n",
    "\n",
    "import re\n",
    "string = input(\"Enter the String: \")\n",
    "regex = re.compile(\"[@_!#$%^&*()<>?/|}{~:]\")\n",
    "\n",
    "if regex.search(string) == None:\n",
    "    print('String does not contain any special character')\n",
    "    \n",
    "else:\n",
    "    print(\"String contains a special character\")                   \n",
    "    "
   ]
  },
  {
   "cell_type": "code",
   "execution_count": null,
   "id": "0c553722",
   "metadata": {},
   "outputs": [],
   "source": []
  }
 ],
 "metadata": {
  "kernelspec": {
   "display_name": "Python 3 (ipykernel)",
   "language": "python",
   "name": "python3"
  },
  "language_info": {
   "codemirror_mode": {
    "name": "ipython",
    "version": 3
   },
   "file_extension": ".py",
   "mimetype": "text/x-python",
   "name": "python",
   "nbconvert_exporter": "python",
   "pygments_lexer": "ipython3",
   "version": "3.9.12"
  }
 },
 "nbformat": 4,
 "nbformat_minor": 5
}
