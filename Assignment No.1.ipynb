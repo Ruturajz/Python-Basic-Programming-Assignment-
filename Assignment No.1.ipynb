{
 "cells": [
  {
   "cell_type": "markdown",
   "id": "7fb9ba9a",
   "metadata": {},
   "source": [
    " Q.1 Write a Python program to print \"Hello Python\"?"
   ]
  },
  {
   "cell_type": "code",
   "execution_count": 3,
   "id": "aee0c204",
   "metadata": {},
   "outputs": [
    {
     "name": "stdout",
     "output_type": "stream",
     "text": [
      "Hello Python\n"
     ]
    }
   ],
   "source": [
    "#Ans\n",
    "print('Hello Python')"
   ]
  },
  {
   "cell_type": "markdown",
   "id": "8bbd046c",
   "metadata": {},
   "source": [
    "Q2.Write a Python program to do arithmetical operations addition and division.?"
   ]
  },
  {
   "cell_type": "code",
   "execution_count": 35,
   "id": "f90e5f69",
   "metadata": {},
   "outputs": [
    {
     "name": "stdout",
     "output_type": "stream",
     "text": [
      "Enter first number:5\n",
      "Enter the second number:50\n",
      "5.0 + 50.0 is: 55.0\n",
      "5.0 / 50.0 is: 0.1\n"
     ]
    }
   ],
   "source": [
    "#Ans\n",
    "\n",
    "num_1= float(input('Enter first number:'))\n",
    "num_2= float(input('Enter the second number:'))\n",
    "\n",
    "Add= num_1 + num_2\n",
    "\n",
    "Div= num_1/num_2\n",
    "\n",
    "print(num_1, \"+\" ,num_2,\"is:\", Add)\n",
    "print(num_1, \"/\" ,num_2,\"is:\", Div)\n",
    "\n",
    "  \n"
   ]
  },
  {
   "cell_type": "markdown",
   "id": "3a7c014b",
   "metadata": {},
   "source": [
    "Q.3 Write a Python program to find the area of a triangle?"
   ]
  },
  {
   "cell_type": "code",
   "execution_count": 37,
   "id": "df243b8e",
   "metadata": {},
   "outputs": [
    {
     "name": "stdout",
     "output_type": "stream",
     "text": [
      "first side of traingle:4\n",
      "second side of traingle:5\n",
      "last side of traingle:7\n",
      "9.797958971132712\n"
     ]
    }
   ],
   "source": [
    "a= float(input('first side of traingle:'))\n",
    "b= float(input('second side of traingle:'))\n",
    "c= float(input('last side of traingle:'))\n",
    "         \n",
    "d= (a+b+c)/2\n",
    "\n",
    "Area_Formula= (d*(d-a)*(d-b)*(d-c))**0.5\n",
    "         \n",
    "print(Area_Formula)\n"
   ]
  },
  {
   "cell_type": "markdown",
   "id": "54c47885",
   "metadata": {},
   "source": [
    "Q.4 Write a Python program to swap two variables?"
   ]
  },
  {
   "cell_type": "code",
   "execution_count": 36,
   "id": "62b09ad0",
   "metadata": {},
   "outputs": [
    {
     "name": "stdout",
     "output_type": "stream",
     "text": [
      "Please enter num for a: 50\n",
      "Please enter num for b: 100\n",
      "value after swapped of a:  100.0\n",
      "value after swapped of b:  50.0\n"
     ]
    }
   ],
   "source": [
    "#Ans\n",
    "\n",
    "a = float( input(\"Please enter num for a: \"))  \n",
    "b = float( input(\"Please enter num for b: \"))  \n",
    "\n",
    "temp= a\n",
    "a = b  \n",
    "b = temp\n",
    "   \n",
    "print (\"value after swapped of a: \", a)  \n",
    "print (\"value after swapped of b: \", b)"
   ]
  },
  {
   "cell_type": "markdown",
   "id": "cbf53138",
   "metadata": {},
   "source": [
    "Q5.Write a Python program to generate a random number?"
   ]
  },
  {
   "cell_type": "code",
   "execution_count": 30,
   "id": "6f783874",
   "metadata": {},
   "outputs": [
    {
     "name": "stdout",
     "output_type": "stream",
     "text": [
      "278\n"
     ]
    }
   ],
   "source": [
    "#Ans\n",
    "\n",
    "import random\n",
    "\n",
    "print(random.randint(0,500))\n"
   ]
  },
  {
   "cell_type": "code",
   "execution_count": 31,
   "id": "162e8f2d",
   "metadata": {},
   "outputs": [
    {
     "data": {
      "text/plain": [
       "101"
      ]
     },
     "execution_count": 31,
     "metadata": {},
     "output_type": "execute_result"
    }
   ],
   "source": [
    "def ran_num():\n",
    "    return(random.randint(0,500))\n",
    "\n",
    "ran_num()\n",
    "    "
   ]
  },
  {
   "cell_type": "code",
   "execution_count": null,
   "id": "fe990b96",
   "metadata": {},
   "outputs": [],
   "source": []
  }
 ],
 "metadata": {
  "kernelspec": {
   "display_name": "Python 3 (ipykernel)",
   "language": "python",
   "name": "python3"
  },
  "language_info": {
   "codemirror_mode": {
    "name": "ipython",
    "version": 3
   },
   "file_extension": ".py",
   "mimetype": "text/x-python",
   "name": "python",
   "nbconvert_exporter": "python",
   "pygments_lexer": "ipython3",
   "version": "3.9.12"
  }
 },
 "nbformat": 4,
 "nbformat_minor": 5
}
