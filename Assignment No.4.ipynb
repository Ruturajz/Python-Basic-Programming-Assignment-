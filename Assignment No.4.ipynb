{
 "cells": [
  {
   "cell_type": "code",
   "execution_count": 13,
   "id": "b854f8a1",
   "metadata": {},
   "outputs": [
    {
     "name": "stdout",
     "output_type": "stream",
     "text": [
      "Enter the number5\n",
      "1\n",
      "2\n",
      "6\n",
      "24\n",
      "120\n"
     ]
    }
   ],
   "source": [
    "# Q1. Write a Python Program to Find the Factorial of a Number?\n",
    "\n",
    "# Ans:\n",
    "\n",
    "num = int(input(\"Enter the number\"))\n",
    "factorial = 1 \n",
    "\n",
    "if num<0:\n",
    "    print(\"Factorial does not exist for negative num\")\n",
    "    \n",
    "elif num ==0:\n",
    "    print(\"factorial =1\")\n",
    "    \n",
    "else:\n",
    "    for i in range(1,num + 1):\n",
    "        factorial = factorial*i\n",
    "        print(factorial)\n",
    "\n",
    "    "
   ]
  },
  {
   "cell_type": "code",
   "execution_count": 15,
   "id": "b4eccb94",
   "metadata": {},
   "outputs": [
    {
     "name": "stdout",
     "output_type": "stream",
     "text": [
      "Enter the number10\n",
      "10 x 1 = 10\n",
      "10 x 2 = 20\n",
      "10 x 3 = 30\n",
      "10 x 4 = 40\n",
      "10 x 5 = 50\n",
      "10 x 6 = 60\n",
      "10 x 7 = 70\n",
      "10 x 8 = 80\n",
      "10 x 9 = 90\n",
      "10 x 10 = 100\n"
     ]
    }
   ],
   "source": [
    "# Q2. Write a Python Program to Display the multiplication Table?\n",
    "\n",
    "# Ans:\n",
    "num = int(input(\"Enter the number\"))\n",
    "    \n",
    "for i in range(1, 11):\n",
    "    print(num, 'x', i, '=', num*i)"
   ]
  },
  {
   "cell_type": "code",
   "execution_count": 22,
   "id": "203c73b8",
   "metadata": {},
   "outputs": [
    {
     "name": "stdout",
     "output_type": "stream",
     "text": [
      "Enter the number16\n",
      "0\n",
      "1\n",
      "1\n",
      "2\n",
      "3\n",
      "5\n",
      "8\n",
      "13\n",
      "21\n",
      "34\n",
      "55\n",
      "89\n",
      "144\n",
      "233\n",
      "377\n",
      "610\n"
     ]
    }
   ],
   "source": [
    "# Q3. Write a Python Program to Print the Fibonacci sequence?\n",
    "\n",
    "# Ans:\n",
    "\n",
    "num = int(input(\"Enter the number\"))\n",
    "count = 0\n",
    "n_1 , n_2 = 0,1\n",
    "\n",
    "if num<0:\n",
    "    print(\"invalid value\")\n",
    "    \n",
    "elif num ==1:\n",
    "    print(n_1)\n",
    "    \n",
    "else:     \n",
    "    while count < num:\n",
    "        print(n_1)\n",
    "        nth = n_1 + n_2\n",
    "        n_1 = n_2\n",
    "        n_2 = nth\n",
    "        count += 1\n",
    "    \n",
    "       "
   ]
  },
  {
   "cell_type": "code",
   "execution_count": 25,
   "id": "8cd44520",
   "metadata": {},
   "outputs": [
    {
     "name": "stdout",
     "output_type": "stream",
     "text": [
      "Enter the number153\n",
      "It is a armstrong number\n"
     ]
    }
   ],
   "source": [
    "# Q4. Write a Python Program to Check Armstrong Number?\n",
    "\n",
    "# Ans:\n",
    "\n",
    "num = int(input(\"Enter the number\"))\n",
    "sum = 0\n",
    "\n",
    "temp = num\n",
    "while temp >0:\n",
    "    a = temp % 10\n",
    "    sum += a**3\n",
    "    temp //=10\n",
    "    \n",
    "if num==sum:\n",
    "    print(\"It is a armstrong number\")\n",
    "    \n",
    "else:\n",
    "    print(\"Not armstrong num\")"
   ]
  },
  {
   "cell_type": "code",
   "execution_count": 1,
   "id": "06ad0198",
   "metadata": {},
   "outputs": [
    {
     "name": "stdout",
     "output_type": "stream",
     "text": [
      "Enter the number100\n",
      "Enter the number2000\n",
      "125\n",
      "153\n",
      "216\n",
      "370\n",
      "371\n",
      "407\n",
      "729\n",
      "1296\n",
      "1634\n"
     ]
    }
   ],
   "source": [
    "# Q5. Write a Python Program to Find Armstrong Number in an Interval?\n",
    "\n",
    "# Ans:\n",
    "\n",
    "first_num = int(input(\"Enter the number\"))\n",
    "last_num = int(input(\"Enter the number\"))\n",
    "\n",
    "\n",
    "for num in range (first_num, last_num+1):\n",
    "    order = len(str(num))\n",
    "    sum = 0\n",
    "    \n",
    "    temp = num\n",
    "    while temp >0:\n",
    "        a = temp % 10\n",
    "        sum += a**order\n",
    "        temp //=10\n",
    "        \n",
    "        if num==sum:\n",
    "            print(num)\n",
    "    \n",
    "\n",
    "    "
   ]
  },
  {
   "cell_type": "code",
   "execution_count": 3,
   "id": "d14b5f8c",
   "metadata": {},
   "outputs": [
    {
     "name": "stdout",
     "output_type": "stream",
     "text": [
      "Enter the number200\n",
      "Sum of 200 natural numbers is 20100.0\n"
     ]
    }
   ],
   "source": [
    "# Q6. Write a Python Program to Find the Sum of Natural Numbers?\n",
    "\n",
    "# Ans:\n",
    "    \n",
    "\n",
    "num = int(input(\"Enter the number\"))\n",
    "\n",
    "sum = num*((num+1)/2)\n",
    "\n",
    "print(f'Sum of {num} natural numbers is {sum}')"
   ]
  },
  {
   "cell_type": "code",
   "execution_count": null,
   "id": "ed55f907",
   "metadata": {},
   "outputs": [],
   "source": []
  }
 ],
 "metadata": {
  "kernelspec": {
   "display_name": "Python 3 (ipykernel)",
   "language": "python",
   "name": "python3"
  },
  "language_info": {
   "codemirror_mode": {
    "name": "ipython",
    "version": 3
   },
   "file_extension": ".py",
   "mimetype": "text/x-python",
   "name": "python",
   "nbconvert_exporter": "python",
   "pygments_lexer": "ipython3",
   "version": "3.9.12"
  }
 },
 "nbformat": 4,
 "nbformat_minor": 5
}
