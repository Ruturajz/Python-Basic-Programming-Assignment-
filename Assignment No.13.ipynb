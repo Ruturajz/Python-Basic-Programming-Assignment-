{
 "cells": [
  {
   "cell_type": "code",
   "execution_count": 1,
   "id": "e3f61072",
   "metadata": {},
   "outputs": [
    {
     "name": "stdout",
     "output_type": "stream",
     "text": [
      "Enter D with comma separated: 100,150,180\n",
      "18,22,24\n"
     ]
    }
   ],
   "source": [
    "Q1. Write a program that calculates and prints the value according to the given formula:\n",
    "Q = Square root of [(2 * C * D)/H]\n",
    "Following are the fixed values of C and H:\n",
    "C is 50. H is 30.\n",
    "D is the variable whose values should be input to your program in a comma-separated sequence.\n",
    "Example\n",
    "\n",
    "Let us assume the following comma separated input sequence is given to the program:\n",
    "100,150,180\n",
    "The output of the program should be:\n",
    "18,22,24\n",
    "\n",
    "Ans:\n",
    "\n",
    "import math\n",
    "c = 50\n",
    "h = 30\n",
    "\n",
    "value = input(\"Enter D with comma separated: \").split(',')\n",
    "\n",
    "result = []\n",
    "\n",
    "for D in value:\n",
    "    a = round(math.sqrt(2 * c * int(D) / h))\n",
    "    result.append(str(a))\n",
    "    \n",
    "print(','.join(result))\n"
   ]
  },
  {
   "cell_type": "code",
   "execution_count": 1,
   "id": "af969c90",
   "metadata": {},
   "outputs": [
    {
     "data": {
      "text/plain": [
       "[[0, 0, 0, 0, 0], [0, 1, 2, 3, 4], [0, 2, 4, 6, 8]]"
      ]
     },
     "execution_count": 1,
     "metadata": {},
     "output_type": "execute_result"
    }
   ],
   "source": [
    "Q2. Question 2:\n",
    "Write a program which takes 2 digits, X,Y as input and generates a 2-dimensional array. \n",
    "The element value in the i-th row and j-th column of the array should be i*j.\n",
    "\n",
    "Note: i=0,1.., X-1; j=0,1,¡¬Y-1.\n",
    "\n",
    "Example\n",
    "\n",
    "Suppose the following inputs are given to the program:\n",
    "\n",
    "3,5\n",
    "\n",
    "Then, the output of the program should be:\n",
    "\n",
    "[[0, 0, 0, 0, 0], [0, 1, 2, 3, 4], [0, 2, 4, 6, 8]] \n",
    "\n",
    "Ans:\n",
    "\n",
    "def digits(a,b):\n",
    "    \n",
    "    output= []\n",
    "    for i in range(a):\n",
    "        row = []\n",
    "        for j in range(b):\n",
    "            row.append(i*j)\n",
    "        output.append(row)\n",
    "    return(output)\n",
    "\n",
    "digits(3,5)\n"
   ]
  },
  {
   "cell_type": "code",
   "execution_count": 5,
   "id": "d1e4b002",
   "metadata": {},
   "outputs": [
    {
     "name": "stdout",
     "output_type": "stream",
     "text": [
      "Enter the string: without,hello,bag,world\n",
      "bag,hello,without,world\n"
     ]
    }
   ],
   "source": [
    "Q3. Write a program that accepts a comma separated sequence of words as input and prints the words in \n",
    "a comma-separated sequence after sorting them alphabetically.\n",
    "Suppose the following input is supplied to the program:\n",
    "without,hello,bag,world\n",
    "\n",
    "Then, the output should be:\n",
    "\n",
    "bag,hello,without,world\n",
    "\n",
    "Ans:\n",
    "\n",
    "string = input(\"Enter the string: \").split(\",\")\n",
    "string.sort()\n",
    "result= (','.join(string))\n",
    "print(result)"
   ]
  },
  {
   "cell_type": "code",
   "execution_count": 7,
   "id": "38a6d2c8",
   "metadata": {},
   "outputs": [
    {
     "name": "stdout",
     "output_type": "stream",
     "text": [
      "Enter the String: hello world and practice makes perfect and hello world again\n",
      "again and hello makes perfect practice world\n"
     ]
    }
   ],
   "source": [
    "Q4.Write a program that accepts a sequence of whitespace separated words as input and prints the words after\n",
    "removing all duplicate words and sorting them alphanumerically.\n",
    "Suppose the following input is supplied to the program:\n",
    "hello world and practice makes perfect and hello world again\n",
    "Then, the output should be:\n",
    "again and hello makes perfect practice world\n",
    "\n",
    "Ans:\n",
    "    \n",
    "\n",
    "string = input(\"Enter the String: \").split(\" \")\n",
    "output = (' '.join(sorted(list(set(string)))))\n",
    "print(output)\n"
   ]
  },
  {
   "cell_type": "code",
   "execution_count": 1,
   "id": "9f7e0c9e",
   "metadata": {},
   "outputs": [
    {
     "name": "stdout",
     "output_type": "stream",
     "text": [
      "Enter the string: hello world! 123\n",
      "letters 10\n",
      "digits 3\n"
     ]
    }
   ],
   "source": [
    "Q5. Write a program that accepts a sentence and calculate the number of letters and digits.\n",
    "Suppose the following input is supplied to the program:\n",
    "\n",
    "hello world! 123\n",
    "Then, the output should be:\n",
    "LETTERS 10\n",
    "DIGITS 3\n",
    "\n",
    "Ans:\n",
    "\n",
    "string= input(\"Enter the string: \")\n",
    "\n",
    "letters =0\n",
    "digits = 0\n",
    "\n",
    "for i in string:\n",
    "    if i.isalpha():\n",
    "        letters += 1\n",
    "    elif i.isdigit():\n",
    "        digits +=1\n",
    "        \n",
    "print(\"letters\", letters)\n",
    "print(\"digits\", digits)\n"
   ]
  },
  {
   "cell_type": "code",
   "execution_count": 2,
   "id": "47dabbe5",
   "metadata": {},
   "outputs": [
    {
     "name": "stdout",
     "output_type": "stream",
     "text": [
      "Enter the string: ABd1234@1,a F1#,2w3E*,2We3345\n",
      "ABd1234@1\n"
     ]
    }
   ],
   "source": [
    "Q6. A website requires the users to input username and password to register. Write a program to check \n",
    "the validity of password input by users.\n",
    "\n",
    "Following are the criteria for checking the password:\n",
    "1. At least 1 letter between [a-z]\n",
    "2. At least 1 number between [0-9]\n",
    "1. At least 1 letter between [A-Z]\n",
    "3. At least 1 character from [$#@]\n",
    "4. Minimum length of transaction password: 6\n",
    "5. Maximum length of transaction password: 12\n",
    "\n",
    "Your program should accept a sequence of comma separated passwords and will check them according to the above criteria. Passwords that match the criteria are to be printed, each separated by a comma.\n",
    "Example\n",
    "\n",
    "If the following passwords are given as input to the program:\n",
    "ABd1234@1,a F1#,2w3E*,2We3345\n",
    "Then, the output of the program should be:\n",
    "ABd1234@1\n",
    "\n",
    "Ans:\n",
    "\n",
    "string = input(\"Enter the string: \").split(\",\")\n",
    "lower = \"abcdefghijklmnopqrstuvwxyz\"\n",
    "capital= \"ABCDEFGHIJKLMNOPQRSTUVWXYZ\"\n",
    "numbers= \"0123456789\"\n",
    "special_char= \"$#@\"\n",
    "\n",
    "for i in string:\n",
    "    if len(i)>=6 and len(i) <=12:\n",
    "        if any(j.isupper() for j in i):\n",
    "            if any(j.islower() for j in i):\n",
    "                if any(j for j in i if j in special_char):\n",
    "                    print(i)\n"
   ]
  },
  {
   "cell_type": "code",
   "execution_count": null,
   "id": "2f686449",
   "metadata": {},
   "outputs": [],
   "source": []
  }
 ],
 "metadata": {
  "kernelspec": {
   "display_name": "Python 3 (ipykernel)",
   "language": "python",
   "name": "python3"
  },
  "language_info": {
   "codemirror_mode": {
    "name": "ipython",
    "version": 3
   },
   "file_extension": ".py",
   "mimetype": "text/x-python",
   "name": "python",
   "nbconvert_exporter": "python",
   "pygments_lexer": "ipython3",
   "version": "3.9.12"
  }
 },
 "nbformat": 4,
 "nbformat_minor": 5
}
