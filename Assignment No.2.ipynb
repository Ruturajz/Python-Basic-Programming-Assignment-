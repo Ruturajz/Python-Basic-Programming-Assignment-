{
 "cells": [
  {
   "cell_type": "markdown",
   "id": "43ed25f5",
   "metadata": {},
   "source": [
    "Q.1 Write a Python program to convert kilometers to miles"
   ]
  },
  {
   "cell_type": "code",
   "execution_count": 4,
   "id": "164c741d",
   "metadata": {},
   "outputs": [
    {
     "name": "stdout",
     "output_type": "stream",
     "text": [
      "Enter no of km: 10\n",
      "The values in mile: 6.212999999999999\n"
     ]
    }
   ],
   "source": [
    "#ANS\n",
    "\n",
    "Kilometer= int(input(\"Enter no of km: \"))\n",
    "#conversion= 1km = 06213 miles\n",
    "conv= 0.6213\n",
    "\n",
    "mile= Kilometer * conv\n",
    "\n",
    "print(\"The values in mile:\", mile)"
   ]
  },
  {
   "cell_type": "markdown",
   "id": "5538b510",
   "metadata": {},
   "source": [
    "Q2. Write a Python program to convert Celsius to Fahrenheit?"
   ]
  },
  {
   "cell_type": "code",
   "execution_count": 11,
   "id": "23c1a8c4",
   "metadata": {},
   "outputs": [
    {
     "name": "stdout",
     "output_type": "stream",
     "text": [
      "Enter tempearture in celsius: 200\n",
      "conversion of celsius to Fahr: 392.0\n"
     ]
    }
   ],
   "source": [
    "#ANS\n",
    "\n",
    "Celsius= int(input(\"Enter tempearture in celsius: \"))\n",
    "#conversion= 1celsius = 33.8 F\n",
    "\n",
    "conv= (Celsius*(9/5))+32\n",
    "\n",
    "print(\"conversion of celsius to Fahr:\", conv)"
   ]
  },
  {
   "cell_type": "markdown",
   "id": "4b67eff6",
   "metadata": {},
   "source": [
    "Q 3. Write a Python program to display calendar?"
   ]
  },
  {
   "cell_type": "code",
   "execution_count": 18,
   "id": "26a98feb",
   "metadata": {},
   "outputs": [
    {
     "name": "stdout",
     "output_type": "stream",
     "text": [
      "Enter the year: 2019\n",
      "                                  2019\n",
      "\n",
      "      January                   February                   March\n",
      "Mo Tu We Th Fr Sa Su      Mo Tu We Th Fr Sa Su      Mo Tu We Th Fr Sa Su\n",
      "    1  2  3  4  5  6                   1  2  3                   1  2  3\n",
      " 7  8  9 10 11 12 13       4  5  6  7  8  9 10       4  5  6  7  8  9 10\n",
      "14 15 16 17 18 19 20      11 12 13 14 15 16 17      11 12 13 14 15 16 17\n",
      "21 22 23 24 25 26 27      18 19 20 21 22 23 24      18 19 20 21 22 23 24\n",
      "28 29 30 31               25 26 27 28               25 26 27 28 29 30 31\n",
      "\n",
      "       April                      May                       June\n",
      "Mo Tu We Th Fr Sa Su      Mo Tu We Th Fr Sa Su      Mo Tu We Th Fr Sa Su\n",
      " 1  2  3  4  5  6  7             1  2  3  4  5                      1  2\n",
      " 8  9 10 11 12 13 14       6  7  8  9 10 11 12       3  4  5  6  7  8  9\n",
      "15 16 17 18 19 20 21      13 14 15 16 17 18 19      10 11 12 13 14 15 16\n",
      "22 23 24 25 26 27 28      20 21 22 23 24 25 26      17 18 19 20 21 22 23\n",
      "29 30                     27 28 29 30 31            24 25 26 27 28 29 30\n",
      "\n",
      "        July                     August                  September\n",
      "Mo Tu We Th Fr Sa Su      Mo Tu We Th Fr Sa Su      Mo Tu We Th Fr Sa Su\n",
      " 1  2  3  4  5  6  7                1  2  3  4                         1\n",
      " 8  9 10 11 12 13 14       5  6  7  8  9 10 11       2  3  4  5  6  7  8\n",
      "15 16 17 18 19 20 21      12 13 14 15 16 17 18       9 10 11 12 13 14 15\n",
      "22 23 24 25 26 27 28      19 20 21 22 23 24 25      16 17 18 19 20 21 22\n",
      "29 30 31                  26 27 28 29 30 31         23 24 25 26 27 28 29\n",
      "                                                    30\n",
      "\n",
      "      October                   November                  December\n",
      "Mo Tu We Th Fr Sa Su      Mo Tu We Th Fr Sa Su      Mo Tu We Th Fr Sa Su\n",
      "    1  2  3  4  5  6                   1  2  3                         1\n",
      " 7  8  9 10 11 12 13       4  5  6  7  8  9 10       2  3  4  5  6  7  8\n",
      "14 15 16 17 18 19 20      11 12 13 14 15 16 17       9 10 11 12 13 14 15\n",
      "21 22 23 24 25 26 27      18 19 20 21 22 23 24      16 17 18 19 20 21 22\n",
      "28 29 30 31               25 26 27 28 29 30         23 24 25 26 27 28 29\n",
      "                                                    30 31\n",
      "\n"
     ]
    }
   ],
   "source": [
    "#ANS\n",
    "\n",
    "import calendar\n",
    "\n",
    "year= int(input(\"Enter the year: \" ))\n",
    "\n",
    "print(calendar.calendar(year)"
   ]
  },
  {
   "cell_type": "code",
   "execution_count": null,
   "id": "508b41cf",
   "metadata": {},
   "outputs": [],
   "source": [
    "Q.4 Write a Python program to solve quadratic equation?"
   ]
  },
  {
   "cell_type": "code",
   "execution_count": 3,
   "id": "d3c79a83",
   "metadata": {},
   "outputs": [
    {
     "name": "stdout",
     "output_type": "stream",
     "text": [
      "enter the value of a: 5\n",
      "enter the value of b: 10\n",
      "enter the value of c: 4\n",
      "Roots are real\n",
      "The values are (-1.4472135954999579+0j) and (-0.552786404500042+0j)\n"
     ]
    }
   ],
   "source": [
    "import cmath\n",
    "\n",
    "a= int(input(\"enter the value of a: \"))\n",
    "b= int(input(\"enter the value of b: \"))\n",
    "c= int(input(\"enter the value of c: \"))\n",
    "\n",
    "D = b**2 - 4*a*c\n",
    "\n",
    "option_1 = (-b - cmath.sqrt(D))/(2*a)\n",
    "option_2 = (-b + cmath.sqrt(D))/(2*a)\n",
    "         \n",
    "if D>0:\n",
    "    print(\"Roots are real\")\n",
    "         \n",
    "elif D==0:\n",
    "    print(\"Roots are equal\")\n",
    "         \n",
    "elif D<0:\n",
    "    print(\"Roots are complex\")\n",
    "    \n",
    "print(f\"The values are {option_1} and {option_2}\")"
   ]
  },
  {
   "cell_type": "markdown",
   "id": "ce98d9b6",
   "metadata": {},
   "source": [
    "Q5. Write a Python program to swap two variables without temp variable?"
   ]
  },
  {
   "cell_type": "code",
   "execution_count": 24,
   "id": "7df493a1",
   "metadata": {},
   "outputs": [
    {
     "name": "stdout",
     "output_type": "stream",
     "text": [
      "Please enter value for num1: 50\n",
      "Please enter value for num2: 100\n",
      "value of first_input after swapped :  100.0\n",
      "value of second_input after swapped :  50.0\n"
     ]
    }
   ],
   "source": [
    "##ANS\n",
    "\n",
    "a = float( input(\"Please enter value for num1: \"))  \n",
    "b = float( input(\"Please enter value for num2: \"))  \n",
    "\n",
    "a = a-b\n",
    "b = a+b\n",
    "a= b-a\n",
    "   \n",
    "print (\"value of first_input after swapped : \", a)  \n",
    "print (\"value of second_input after swapped : \", b)"
   ]
  },
  {
   "cell_type": "code",
   "execution_count": null,
   "id": "cb74617b",
   "metadata": {},
   "outputs": [],
   "source": []
  }
 ],
 "metadata": {
  "kernelspec": {
   "display_name": "Python 3 (ipykernel)",
   "language": "python",
   "name": "python3"
  },
  "language_info": {
   "codemirror_mode": {
    "name": "ipython",
    "version": 3
   },
   "file_extension": ".py",
   "mimetype": "text/x-python",
   "name": "python",
   "nbconvert_exporter": "python",
   "pygments_lexer": "ipython3",
   "version": "3.9.12"
  }
 },
 "nbformat": 4,
 "nbformat_minor": 5
}
