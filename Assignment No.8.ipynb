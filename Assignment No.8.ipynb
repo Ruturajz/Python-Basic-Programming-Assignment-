{
 "cells": [
  {
   "cell_type": "code",
   "execution_count": 1,
   "id": "5fc4ab76",
   "metadata": {},
   "outputs": [
    {
     "name": "stdout",
     "output_type": "stream",
     "text": [
      "[23, 42, 84]\n",
      "[55, 102, 80]\n",
      "[60, 130, 150]\n"
     ]
    }
   ],
   "source": [
    "# Q1. Write a Python Program to Add Two Matrices?\n",
    "\n",
    "# Ans:\n",
    "a= [[10,16,32],\n",
    "   [5,16,55],\n",
    "   [20,50,80]]\n",
    "\n",
    "b= [[13,26,52],\n",
    "   [50,86,25],\n",
    "   [40,80,70]]\n",
    "\n",
    "result = [[0,0,0],\n",
    "         [0,0,0],\n",
    "         [0,0,0]]\n",
    "\n",
    "\n",
    "for i in range(len(a)):\n",
    "    for j in range(len(a[0])):\n",
    "        result[i][j] = a[i][j] + b[i][j]\n",
    "        \n",
    "for k in result:\n",
    "    print(k)\n",
    "        "
   ]
  },
  {
   "cell_type": "code",
   "execution_count": 2,
   "id": "d77417c9",
   "metadata": {},
   "outputs": [
    {
     "name": "stdout",
     "output_type": "stream",
     "text": [
      "[2210, 4196, 3160]\n",
      "[3065, 5906, 4510]\n",
      "[5960, 11220, 7890]\n"
     ]
    }
   ],
   "source": [
    "# Q.2 Write a Python Program to Multiply Two Matrices?\n",
    "\n",
    "# Ans:\n",
    "    \n",
    "a= [[10,16,32],\n",
    "   [5,16,55],\n",
    "   [20,50,80]]\n",
    "\n",
    "b= [[13,26,52],\n",
    "   [50,86,25],\n",
    "   [40,80,70]]\n",
    "\n",
    "result = [[0,0,0],\n",
    "         [0,0,0],\n",
    "         [0,0,0]]\n",
    "\n",
    "\n",
    "for i in range(len(a)):\n",
    "    for j in range(len(b[0])):\n",
    "        for k in range(len(b)):\n",
    "            result[i][j] += a[i][k] * b[k][j]\n",
    "        \n",
    "for r in result:\n",
    "    print(r) \n"
   ]
  },
  {
   "cell_type": "code",
   "execution_count": 3,
   "id": "d2c7246b",
   "metadata": {},
   "outputs": [
    {
     "name": "stdout",
     "output_type": "stream",
     "text": [
      "[100, 50, 200]\n",
      "[160, 160, 500]\n",
      "[320, 550, 800]\n",
      "[450, 700, 550]\n"
     ]
    }
   ],
   "source": [
    "# Q3. Write a Python Program to Transpose a Matrix?\n",
    "\n",
    "# Ans:\n",
    "\n",
    "a= [[100,160,320,450],\n",
    "   [50,160,550,700],\n",
    "   [200,500,800,550]]\n",
    "\n",
    "result = [[0,0,0],\n",
    "         [0,0,0],\n",
    "         [0,0,0],\n",
    "          [0,0,0]]\n",
    "\n",
    "\n",
    "for i in range(len(a)):\n",
    "    for j in range(len(a[0])):\n",
    "        result[j][i] = a[i][j] \n",
    "        \n",
    "for r in result:\n",
    "    print(r) \n",
    "    "
   ]
  },
  {
   "cell_type": "code",
   "execution_count": 4,
   "id": "83c6eaaf",
   "metadata": {},
   "outputs": [
    {
     "name": "stdout",
     "output_type": "stream",
     "text": [
      "Enter the wordsIneuron Python Data Science Course\n",
      "Course\n",
      "Data\n",
      "Ineuron\n",
      "Python\n",
      "Science\n"
     ]
    }
   ],
   "source": [
    "# Q4. Write a Python Program to Sort Words in Alphabetic Order?\n",
    "\n",
    "# Ans:\n",
    "a = input(\"Enter the words\")\n",
    "sorted_words = a.split(\" \")\n",
    "\n",
    "sorted_words.sort()\n",
    "\n",
    "for i in sorted_words:\n",
    "    print(i)"
   ]
  },
  {
   "cell_type": "code",
   "execution_count": 5,
   "id": "3181ed01",
   "metadata": {},
   "outputs": [
    {
     "name": "stdout",
     "output_type": "stream",
     "text": [
      "Enter the words@Ineuron P#ython Full<> Stack? Data # Science&\n",
      " Ineuron Python Full Stack Data  Science\n"
     ]
    }
   ],
   "source": [
    "# Q5. Write a Python Program to Remove Punctuation From a String?\n",
    "\n",
    "# Ans:\n",
    "punct = '''!()-[]{};:'\"\\,<>./?@#$%^&*_~'''\n",
    "\n",
    "a = input(\"Enter the words\")\n",
    "output = \" \"\n",
    "\n",
    "for i in a:\n",
    "    if i not in punct:\n",
    "        output = output + i\n",
    "        \n",
    "print(output)"
   ]
  },
  {
   "cell_type": "code",
   "execution_count": null,
   "id": "b4fcd1fa",
   "metadata": {},
   "outputs": [],
   "source": []
  }
 ],
 "metadata": {
  "kernelspec": {
   "display_name": "Python 3 (ipykernel)",
   "language": "python",
   "name": "python3"
  },
  "language_info": {
   "codemirror_mode": {
    "name": "ipython",
    "version": 3
   },
   "file_extension": ".py",
   "mimetype": "text/x-python",
   "name": "python",
   "nbconvert_exporter": "python",
   "pygments_lexer": "ipython3",
   "version": "3.9.12"
  }
 },
 "nbformat": 4,
 "nbformat_minor": 5
}
