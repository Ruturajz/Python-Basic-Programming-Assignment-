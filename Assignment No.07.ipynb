{
 "cells": [
  {
   "cell_type": "code",
   "execution_count": 15,
   "id": "c485d2cb",
   "metadata": {},
   "outputs": [
    {
     "name": "stdout",
     "output_type": "stream",
     "text": [
      "Enter the Array: 1,5,8,10,25,50,65,85\n",
      "249\n"
     ]
    }
   ],
   "source": [
    "# Q1. Write a Python Program to find sum of array?\n",
    "\n",
    "# Ans:\n",
    "num_array = eval(input(\"Enter the Array: \"))\n",
    "print(sum(num_array ))"
   ]
  },
  {
   "cell_type": "code",
   "execution_count": 16,
   "id": "e3e1d3a5",
   "metadata": {},
   "outputs": [
    {
     "name": "stdout",
     "output_type": "stream",
     "text": [
      "Enter the Array: 10,20,50,65,75,85,95\n",
      "95\n"
     ]
    }
   ],
   "source": [
    "# Q2.Write a Python Program to find largest element in an array?\n",
    "\n",
    "# Ans:\n",
    "num_array = eval(input(\"Enter the Array: \"))\n",
    "print(max(num_array ))"
   ]
  },
  {
   "cell_type": "code",
   "execution_count": 17,
   "id": "5f170b16",
   "metadata": {},
   "outputs": [
    {
     "name": "stdout",
     "output_type": "stream",
     "text": [
      "Enter the Array: 10,50,60,70,40,55,85\n",
      "reverse is (85, 55, 40, 70, 60, 50, 10)\n"
     ]
    }
   ],
   "source": [
    "# Q3. Write a Python Program for array rotation?\n",
    "\n",
    "# Ans:\n",
    "num_array = eval(input(\"Enter the Array: \"))\n",
    "print(\"reverse is\",(num_array[::-1]))"
   ]
  },
  {
   "cell_type": "code",
   "execution_count": 8,
   "id": "c8f99d89",
   "metadata": {},
   "outputs": [
    {
     "name": "stdout",
     "output_type": "stream",
     "text": [
      "60\n",
      "70\n",
      "40\n",
      "55\n",
      "85\n",
      "10\n",
      "50\n"
     ]
    }
   ],
   "source": [
    "# Q4. Write a Python Program to Split the array and add the first part to the end?\n",
    "\n",
    "# Ans:\n",
    "num_arry= [10,50,60,70,40,55,85]\n",
    "rotation = 2\n",
    "\n",
    "for i in range(0, rotation):\n",
    "    temp = num_arry[0]\n",
    "    \n",
    "    for j in range(0, len(num_arry)-1):\n",
    "        num_arry[j] = num_arry[j+1]\n",
    "    num_arry[len(num_arry)-1] = temp\n",
    "    \n",
    "for i in range(0, len(num_arry)):\n",
    "    print(num_arry[i])"
   ]
  },
  {
   "cell_type": "code",
   "execution_count": 14,
   "id": "ab1544d2",
   "metadata": {},
   "outputs": [
    {
     "name": "stdout",
     "output_type": "stream",
     "text": [
      "Enter the Array: 1,5,8,10,16,20,25\n",
      "is Monotonic\n"
     ]
    }
   ],
   "source": [
    "# Q5. Write a Python Program to check if given array is Monotonic?\n",
    "\n",
    "# Ans:\n",
    "\n",
    "num_arry = eval(input(\"Enter the Array: \"))\n",
    "\n",
    "if(all(num_arry[i]<=num_arry[i+1] for i in range(len(num_arry)-1)) or all(num_arry[i]>=num_arry[i+1] for i in range(len(num_arry)-1))):\n",
    "    print('is Monotonic')\n",
    "    \n",
    "else:\n",
    "    print('Not Monotonic')\n"
   ]
  },
  {
   "cell_type": "code",
   "execution_count": null,
   "id": "5921d25a",
   "metadata": {},
   "outputs": [],
   "source": []
  }
 ],
 "metadata": {
  "kernelspec": {
   "display_name": "Python 3 (ipykernel)",
   "language": "python",
   "name": "python3"
  },
  "language_info": {
   "codemirror_mode": {
    "name": "ipython",
    "version": 3
   },
   "file_extension": ".py",
   "mimetype": "text/x-python",
   "name": "python",
   "nbconvert_exporter": "python",
   "pygments_lexer": "ipython3",
   "version": "3.9.12"
  }
 },
 "nbformat": 4,
 "nbformat_minor": 5
}
