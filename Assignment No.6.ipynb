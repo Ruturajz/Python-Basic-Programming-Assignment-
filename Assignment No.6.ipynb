{
 "cells": [
  {
   "cell_type": "code",
   "execution_count": 8,
   "id": "aab514f5",
   "metadata": {},
   "outputs": [
    {
     "name": "stdout",
     "output_type": "stream",
     "text": [
      "Enter the number11\n",
      "0\n",
      "1\n",
      "1\n",
      "2\n",
      "3\n",
      "5\n",
      "8\n",
      "13\n",
      "21\n",
      "34\n",
      "55\n"
     ]
    }
   ],
   "source": [
    "Q1. Write a Python Program to Display Fibonacci Sequence Using Recursion?\n",
    "\n",
    "Ans:\n",
    "    \n",
    "def fibo(n):\n",
    "    if n==1:\n",
    "        return 0\n",
    "    elif n == 2:\n",
    "        return 1\n",
    "    return (fibo(n-1) + fibo(n-2))\n",
    "\n",
    "n = int(input(\"Enter the number\"))\n",
    "for i in range (1,n+1):\n",
    "    print(fibo(i))"
   ]
  },
  {
   "cell_type": "code",
   "execution_count": 10,
   "id": "38d4839f",
   "metadata": {},
   "outputs": [
    {
     "name": "stdout",
     "output_type": "stream",
     "text": [
      "Enter the number10\n",
      "Factorial of 10 is 3628800\n"
     ]
    }
   ],
   "source": [
    "Q2. Write a Python Program to Find Factorial of Number Using Recursion?\n",
    "\n",
    "Ans:\n",
    "    \n",
    "def fact(n):\n",
    "    if n==0 or n==1:\n",
    "        return 1\n",
    "    return n*fact(n-1)\n",
    "\n",
    "n = int(input(\"Enter the number\"))\n",
    "val= fact(n)\n",
    "print(\"Factorial of\", n, \"is\",val)    "
   ]
  },
  {
   "cell_type": "code",
   "execution_count": 11,
   "id": "4e6fcedc",
   "metadata": {},
   "outputs": [
    {
     "name": "stdout",
     "output_type": "stream",
     "text": [
      "Enter your weight in kg: 100\n",
      "Enter your height in CM: 200\n",
      "You are healthy.\n"
     ]
    }
   ],
   "source": [
    "Q3. Write a Python Program to calculate your Body Mass Index?\n",
    "\n",
    "Ans:\n",
    "    \n",
    "weight = float(input(\"Enter your weight in kg: \"))\n",
    "height = float(input(\"Enter your height in CM: \"))\n",
    "\n",
    "BMI = weight / (height/100)**2\n",
    "\n",
    "if BMI < 20.1:\n",
    "    print(\"You are underweight.\")\n",
    "elif (BMI >= 20.1 and BMI < 25.1):\n",
    "    print(\"You are healthy.\")\n",
    "elif (BMI >= 25.1 and BMI < 31.1):\n",
    "    print(\"You are over weight.\")\n",
    "else:\n",
    "    print(\"You are severely obese.\")    "
   ]
  },
  {
   "cell_type": "code",
   "execution_count": 12,
   "id": "1d5a11d7",
   "metadata": {},
   "outputs": [
    {
     "name": "stdout",
     "output_type": "stream",
     "text": [
      "Enter the number50\n",
      "3.912023005428146\n"
     ]
    }
   ],
   "source": [
    "Q4. Write a Python Program to calculate the natural logarithm of any number?\n",
    "\n",
    "Ans:\n",
    "    \n",
    "import math\n",
    "num = int(input(\"Enter the number\"))\n",
    "print(math.log(num))"
   ]
  },
  {
   "cell_type": "code",
   "execution_count": 20,
   "id": "6c3cb6a8",
   "metadata": {},
   "outputs": [
    {
     "name": "stdout",
     "output_type": "stream",
     "text": [
      "Enter the number5\n",
      "Cube Sum of First 5 Natural Numbers is 225.0\n"
     ]
    }
   ],
   "source": [
    "Q5. Write a Python Program for cube sum of first n natural numbers?\n",
    "\n",
    "Ans:\n",
    "    \n",
    "num = int(input(\"Enter the number\"))\n",
    "value = pow(((num *(num +1))/2),2)\n",
    "print('Cube Sum of First', num,\"Natural Numbers is\",value)"
   ]
  },
  {
   "cell_type": "code",
   "execution_count": null,
   "id": "13d8f36a",
   "metadata": {},
   "outputs": [],
   "source": []
  }
 ],
 "metadata": {
  "kernelspec": {
   "display_name": "Python 3 (ipykernel)",
   "language": "python",
   "name": "python3"
  },
  "language_info": {
   "codemirror_mode": {
    "name": "ipython",
    "version": 3
   },
   "file_extension": ".py",
   "mimetype": "text/x-python",
   "name": "python",
   "nbconvert_exporter": "python",
   "pygments_lexer": "ipython3",
   "version": "3.9.12"
  }
 },
 "nbformat": 4,
 "nbformat_minor": 5
}
