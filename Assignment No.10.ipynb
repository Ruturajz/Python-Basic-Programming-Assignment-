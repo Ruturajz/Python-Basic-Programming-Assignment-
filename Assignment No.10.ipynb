{
 "cells": [
  {
   "cell_type": "code",
   "execution_count": 17,
   "id": "876b02a5",
   "metadata": {},
   "outputs": [
    {
     "name": "stdout",
     "output_type": "stream",
     "text": [
      "The sum of above list: 480\n"
     ]
    }
   ],
   "source": [
    "Q1. Write a Python program to find sum of elements in list?\n",
    "\n",
    "Ans:\n",
    "    \n",
    "list = [10,20,50,80,150,100,70]\n",
    "sum=0\n",
    "for i in range(len(list)):\n",
    "    sum = sum + list[i]\n",
    "print(\"The sum of above list:\", sum)"
   ]
  },
  {
   "cell_type": "code",
   "execution_count": 10,
   "id": "3ee1be0e",
   "metadata": {},
   "outputs": [
    {
     "name": "stdout",
     "output_type": "stream",
     "text": [
      "The product of above list: 5000\n"
     ]
    }
   ],
   "source": [
    "Q2. Write a Python program to  Multiply all numbers in the list?\n",
    "\n",
    "Ans:\n",
    "\n",
    "list = [10,20,5,5]\n",
    "sum=1\n",
    "for i in range(len(list)):\n",
    "    sum = sum * list[i]\n",
    "print(\"The product of above list:\", sum)    "
   ]
  },
  {
   "cell_type": "code",
   "execution_count": 19,
   "id": "fa2be872",
   "metadata": {},
   "outputs": [
    {
     "name": "stdout",
     "output_type": "stream",
     "text": [
      "The Smallest number is: -2\n"
     ]
    }
   ],
   "source": [
    "Q3. Write a Python program to find smallest number in a list?\n",
    "\n",
    "Ans:\n",
    "\n",
    "list = [10,20,5,8,3,-2,50]\n",
    "small=list[0]\n",
    "for i in list:\n",
    "    if i<small:\n",
    "        small=i\n",
    "print(\"The Smallest number is:\", small)"
   ]
  },
  {
   "cell_type": "code",
   "execution_count": 8,
   "id": "88a28674",
   "metadata": {},
   "outputs": [
    {
     "name": "stdout",
     "output_type": "stream",
     "text": [
      "The lagest number is: 50\n"
     ]
    }
   ],
   "source": [
    "Q4. Write a Python program to find largest number in a list?\n",
    "\n",
    "Ans:\n",
    "\n",
    "list = [10,20,5,8,3,-2,50]\n",
    "max  =  list[0]\n",
    "for i in list:\n",
    "    if i>max:\n",
    "        max=i\n",
    "print(\"The lagest number is:\" , max)"
   ]
  },
  {
   "cell_type": "code",
   "execution_count": 7,
   "id": "85ae671e",
   "metadata": {},
   "outputs": [
    {
     "name": "stdout",
     "output_type": "stream",
     "text": [
      "The second largest number is: 20\n"
     ]
    }
   ],
   "source": [
    "Q5. Write a Python program to find second largest number in a list?\n",
    "\n",
    "Ans:\n",
    "\n",
    "list = [10,20,5,8,3,-2,50]\n",
    "list.sort()\n",
    "\n",
    "print(\"The second largest number is:\", list[-2]) "
   ]
  },
  {
   "cell_type": "code",
   "execution_count": 20,
   "id": "8b1ac0b7",
   "metadata": {},
   "outputs": [
    {
     "name": "stdout",
     "output_type": "stream",
     "text": [
      "MyList: [8, 20, 30, 40, 50, 200, 250, 350, 450, 500]\n",
      "The largest number from list: [350, 450, 500]\n"
     ]
    }
   ],
   "source": [
    "Q6. Write a Python program to find N largest elements from a list?\n",
    "\n",
    "Ans:\n",
    "\n",
    "list= [8,30,40,20,50,250,350,500,450,200]\n",
    "\n",
    "n= 3\n",
    "\n",
    "list.sort()\n",
    "\n",
    "print(\"MyList:\", list)\n",
    "print(\"The largest number from list:\", list[-n:])"
   ]
  },
  {
   "cell_type": "code",
   "execution_count": 22,
   "id": "21c0c392",
   "metadata": {},
   "outputs": [
    {
     "name": "stdout",
     "output_type": "stream",
     "text": [
      "List =  [10, 20, 5, 50, 18, 3, 24, 50, 250, 450]\n",
      "The Even numbers from list are: [10, 20, 50, 18, 24, 50, 250, 450]\n"
     ]
    }
   ],
   "source": [
    "Q7. Write a Python program to print even numbers in a list?\n",
    "\n",
    "Ans:\n",
    "\n",
    "list = [10,20,5,50,18,3,24,50,250,450]\n",
    "print(\"List = \",list)\n",
    "new_list=[]\n",
    "\n",
    "for i in list:\n",
    "    if i%2==0:\n",
    "        new_list.append(i)\n",
    "\n",
    "print(\"The Even numbers from list are:\", new_list)\n",
    "        "
   ]
  },
  {
   "cell_type": "code",
   "execution_count": 23,
   "id": "01d9b334",
   "metadata": {},
   "outputs": [
    {
     "name": "stdout",
     "output_type": "stream",
     "text": [
      "List =  [10, 20, 5, 50, 18, 3, 24, 50, 250, 450]\n",
      "The odd number from list [5, 3]\n"
     ]
    }
   ],
   "source": [
    "Q8.Write a Python program to print odd numbers in a List?\n",
    "\n",
    "Ans:\n",
    "\n",
    "List =  [10, 20, 5, 50, 18, 3, 28, 55, 250, 355,]\n",
    "new_list =[]\n",
    "print(\"List = \",list)\n",
    "\n",
    "for i in list:\n",
    "    if i%2!=0:\n",
    "        new_list.append(i)\n",
    "        \n",
    "print(\"The odd number from list\", new_list)"
   ]
  },
  {
   "cell_type": "code",
   "execution_count": 25,
   "id": "6e2806b3",
   "metadata": {},
   "outputs": [
    {
     "name": "stdout",
     "output_type": "stream",
     "text": [
      "List =  [10, 20, [], 5, 50, 18, 3, [], 24, 50, [], 250, [], 500]\n",
      "[10, 20, 5, 50, 18, 3, 24, 50, 250, 500]\n"
     ]
    }
   ],
   "source": [
    "Q9. Write a Python program to Remove empty List from List?\n",
    "\n",
    "Ans:\n",
    "\n",
    "list = [10,20,[],5,50,18,3,[],24,50,[],250,[],500]\n",
    "new_list= []\n",
    "print(\"List = \",list)\n",
    "\n",
    "for item in list:\n",
    "    if item != []:\n",
    "        new_list.append(item)\n",
    "        \n",
    "print(new_list)"
   ]
  },
  {
   "cell_type": "code",
   "execution_count": 26,
   "id": "e9c131da",
   "metadata": {},
   "outputs": [
    {
     "name": "stdout",
     "output_type": "stream",
     "text": [
      "[10, 20, 5, 50, 18, 3, 24, 50]\n"
     ]
    }
   ],
   "source": [
    "Q10. Write a Python program to Cloning or Copying a list?\n",
    "\n",
    "Ans:\n",
    "\n",
    "list = [10,20,5,50,18,3,24,50]\n",
    "new_list= []\n",
    "\n",
    "new_list=list.copy()\n",
    "\n",
    "print(new_list)    "
   ]
  },
  {
   "cell_type": "code",
   "execution_count": 28,
   "id": "d4b7552d",
   "metadata": {},
   "outputs": [
    {
     "name": "stdout",
     "output_type": "stream",
     "text": [
      "Enter element to be checked list: 5\n",
      "5 is occurred  4 times\n"
     ]
    }
   ],
   "source": [
    "Q11. Write a Python program to Count occurrences of an element in a list?\n",
    "\n",
    "Ans:\n",
    "\n",
    "list = [10,20,5,5,18,3,24,5,5,250]\n",
    "n=int(input(\"Enter element to be checked list: \"))\n",
    "\n",
    "print(n,\"is occurred \",list.count(n),\"times\")"
   ]
  },
  {
   "cell_type": "code",
   "execution_count": null,
   "id": "f0bb3507",
   "metadata": {},
   "outputs": [],
   "source": []
  }
 ],
 "metadata": {
  "kernelspec": {
   "display_name": "Python 3 (ipykernel)",
   "language": "python",
   "name": "python3"
  },
  "language_info": {
   "codemirror_mode": {
    "name": "ipython",
    "version": 3
   },
   "file_extension": ".py",
   "mimetype": "text/x-python",
   "name": "python",
   "nbconvert_exporter": "python",
   "pygments_lexer": "ipython3",
   "version": "3.9.12"
  }
 },
 "nbformat": 4,
 "nbformat_minor": 5
}
